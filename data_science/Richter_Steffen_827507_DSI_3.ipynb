{
 "cells": [
  {
   "cell_type": "code",
   "execution_count": null,
   "metadata": {
    "is_executing": true
   },
   "outputs": [],
   "source": [
    "import pandas as pd\n",
    "from pandas.api.types import is_numeric_dtype\n",
    "from datetime import timezone\n",
    "import numpy as np\n",
    "import plotly.express as px"
   ]
  },
  {
   "attachments": {},
   "cell_type": "markdown",
   "metadata": {},
   "source": [
    "DSI Lab: Task 1\n",
    "\n",
    "This excercise combines multiple phases of the CRISP-DM from Data Collection to Modelling and Model Evaluation. You should apply your knowledge on all the steps in the\n",
    "process and also iterate through multiple steps.\n",
    "The dataset is a collection of environmental sensor data from the H-Building of FH-Aachen."
   ]
  },
  {
   "attachments": {},
   "cell_type": "markdown",
   "metadata": {},
   "source": [
    "## 1. Task a & b\n",
    "\n",
    "Read '07092021bimsim_roomparquet'"
   ]
  },
  {
   "cell_type": "code",
   "execution_count": null,
   "metadata": {},
   "outputs": [],
   "source": [
    "path = './datasets/07092021bimsim_room.parquet'\n",
    "df = pd.read_parquet(path)\n",
    "print(df.head(10))\n",
    "print(df.info())\n"
   ]
  },
  {
   "attachments": {},
   "cell_type": "markdown",
   "metadata": {},
   "source": [
    "Convert date columns ('id'=unix-ts, 'datetime'=string)"
   ]
  },
  {
   "cell_type": "code",
   "execution_count": null,
   "metadata": {},
   "outputs": [],
   "source": [
    "df['datetime_converted'] = pd.to_datetime(df['datetime'])\n",
    "df['id_converted'] = pd.to_datetime(df['id'], unit='s')\n",
    "print(df.info())\n",
    "print(df.describe())"
   ]
  },
  {
   "attachments": {},
   "cell_type": "markdown",
   "metadata": {},
   "source": [
    "## 2. Task c\n",
    "\n",
    "Compare the timestamps in the two respective columns. What is their difference?\n",
    "Could this be relevant? (Hint: Consider the capturing process)\n"
   ]
  },
  {
   "cell_type": "code",
   "execution_count": null,
   "metadata": {},
   "outputs": [],
   "source": [
    "dfd = df[['datetime','id_converted','datetime_converted']]\n",
    "print(dfd.head(10))\n",
    "print(df['datetime_converted'].tail(5))\n",
    "print(df['id_converted'].tail(5))"
   ]
  },
  {
   "attachments": {},
   "cell_type": "markdown",
   "metadata": {},
   "source": [
    "It seems like 'datetime' is equal to 'id' with an offset of +1 hour. 'id' is coded as unix-timestamp and has more time information then datetime, in case one of the columns should be dropped, its better to kick out the one with less information. But there are timestamps, where the difference is bigger then one hour. So 'id' does not 100% relate to 'datetime'."
   ]
  },
  {
   "attachments": {},
   "cell_type": "markdown",
   "metadata": {},
   "source": [
    "## 3. Task d\n",
    "\n",
    "Are there columns that can be safely dropped for the following steps?\n"
   ]
  },
  {
   "cell_type": "code",
   "execution_count": null,
   "metadata": {},
   "outputs": [],
   "source": [
    "# Either 'sensor' or 'source' might be dropped, aslong as there values stay equal\n",
    "print('Drop source: ' + str(df['sensor'].equals(df['source'])))\n",
    "\n",
    "def sensorFitsRoom():\n",
    "    df_sensor_room = df[['sensor','room']]\n",
    "    unique_sensors = df['sensor'].unique()\n",
    "    # print(unique_sensors)\n",
    "    for sensor in unique_sensors:\n",
    "        result =  df_sensor_room.loc[df['sensor'] == sensor]\n",
    "        if result['room'].unique().size > 1:\n",
    "            return False\n",
    "    return True\n",
    "\n",
    "# 'room' might be dropped, if there is only a one-to-one connection between sensor and room\n",
    "print('Drop room: ' + str(sensorFitsRoom()))\n",
    "\n",
    "def datetimeEqualsId():\n",
    "    id_converted = df['id_converted'].dt.floor(freq='s')\n",
    "    pd.to_datetime(df['id'], unit='s')\n",
    "    datetime_shifted = df['datetime_converted'] - pd.Timedelta(hours=1)\n",
    "    return id_converted.equals(datetime_shifted)\n",
    "\n",
    "# 'datetime' might be dropped, if it equals 'id'\n",
    "print('Drop datetime: ' + str(datetimeEqualsId()))"
   ]
  },
  {
   "attachments": {},
   "cell_type": "markdown",
   "metadata": {},
   "source": [
    "## 4. Task e\n",
    "\n",
    "Are there outliers in the data?\n"
   ]
  },
  {
   "cell_type": "code",
   "execution_count": null,
   "metadata": {},
   "outputs": [],
   "source": [
    "values = df[['celsius','pressure','humidity']]\n",
    "print(values.describe().apply(lambda s: s.apply(lambda x: format(x, 'g')))) # https://stackoverflow.com/a/47207283\n",
    "\n",
    "fig = px.box(df,x='celsius')\n",
    "fig.update_layout(height=300, width=600)\n",
    "fig.show()\n",
    "\n",
    "fig = px.box(df,x='pressure')\n",
    "fig.update_layout(height=300, width=600)\n",
    "fig.show()\n",
    "\n",
    "fig = px.box(df,x='humidity')\n",
    "fig.update_layout(height=300, width=600)\n",
    "fig.show()"
   ]
  },
  {
   "attachments": {},
   "cell_type": "markdown",
   "metadata": {},
   "source": [
    "The minimum 'celsius' is '-149.528' whereas the mean is '21.2777'. We know that the data is from sensors in rooms. So we could be sure, that negative temperature values are outliers. Also is the maximum 'humidity' at '97.0518' percent. This is also quite high for a room. Even when its closed.\n",
    "The plot also show, that there are some outliers in 'celsius', 'pressure' and 'humidity'."
   ]
  },
  {
   "attachments": {},
   "cell_type": "markdown",
   "metadata": {},
   "source": [
    "## 5. Task f,g\n",
    "\n",
    "Group the data roomwise and print some statistics!\n",
    "Create line plots for the rooms using plotly!"
   ]
  },
  {
   "cell_type": "code",
   "execution_count": null,
   "metadata": {},
   "outputs": [],
   "source": [
    "df_rooms = df.groupby(by='room')\n",
    "print(df_rooms.describe().apply(lambda s: s.apply(lambda x: format(x, 'g'))))\n",
    "\n",
    "fig = px.line(df, x='datetime', y='celsius', color='room')\n",
    "fig.show()\n",
    "\n",
    "fig = px.line(df, x='datetime', y='pressure', color='room')\n",
    "fig.show()\n",
    "\n",
    "fig = px.line(df, x='datetime', y='humidity', color='room')\n",
    "fig.show()"
   ]
  },
  {
   "attachments": {},
   "cell_type": "markdown",
   "metadata": {},
   "source": [
    "## 6. Task h\n",
    "\n",
    "Create a 3D scatterplot for two rooms using plotly! Can you see differences in the data?"
   ]
  },
  {
   "cell_type": "code",
   "execution_count": null,
   "metadata": {},
   "outputs": [],
   "source": [
    "df_rooms = df.loc[df['room'].isin(['H203', 'H106'])]\n",
    "fig = px.scatter_3d(df_rooms, x='celsius', y='humidity', z='pressure', color='room')\n",
    "fig.update_layout(width=1000, height=800)\n",
    "\n",
    "fig.show()"
   ]
  }
 ],
 "metadata": {
  "kernelspec": {
   "display_name": "pandas",
   "language": "python",
   "name": "python3"
  },
  "language_info": {
   "codemirror_mode": {
    "name": "ipython",
    "version": 3
   },
   "file_extension": ".py",
   "mimetype": "text/x-python",
   "name": "python",
   "nbconvert_exporter": "python",
   "pygments_lexer": "ipython3",
   "version": "3.11.3"
  },
  "orig_nbformat": 4
 },
 "nbformat": 4,
 "nbformat_minor": 2
}
