{
 "cells": [
  {
   "cell_type": "code",
   "execution_count": 40,
   "metadata": {
    "is_executing": true
   },
   "outputs": [],
   "source": [
    "import pandas as pd\n",
    "from pandas.api.types import is_numeric_dtype\n",
    "import numpy as np\n",
    "import matplotlib.pyplot as plt"
   ]
  },
  {
   "attachments": {},
   "cell_type": "markdown",
   "metadata": {},
   "source": [
    "DSI Lab: Task 1\n",
    "\n",
    "This excercise combines multiple phases of the CRISP-DM from Data Collection to Modelling and Model Evaluation. You should apply your knowledge on all the steps in the\n",
    "process and also iterate through multiple steps.\n",
    "The dataset is a collection of environmental sensor data from the H-Building of FH-Aachen."
   ]
  },
  {
   "attachments": {},
   "cell_type": "markdown",
   "metadata": {},
   "source": [
    "## 1. Task a & b\n",
    "\n",
    "Read '07092021bimsim_roomparquet' and convert date columns ('id'=unix-ts, 'datetime'=string)"
   ]
  },
  {
   "cell_type": "code",
   "execution_count": 41,
   "metadata": {},
   "outputs": [
    {
     "name": "stdout",
     "output_type": "stream",
     "text": [
      "<class 'pandas.core.frame.DataFrame'>\n",
      "RangeIndex: 1625329 entries, 0 to 1625328\n",
      "Data columns (total 10 columns):\n",
      " #   Column              Non-Null Count    Dtype         \n",
      "---  ------              --------------    -----         \n",
      " 0   source              1625329 non-null  object        \n",
      " 1   datetime            1625329 non-null  object        \n",
      " 2   id                  1625329 non-null  float64       \n",
      " 3   celsius             1625329 non-null  float64       \n",
      " 4   pressure            1625329 non-null  float64       \n",
      " 5   humidity            1625329 non-null  float64       \n",
      " 6   sensor              1625329 non-null  object        \n",
      " 7   room                1619653 non-null  object        \n",
      " 8   datetime_converted  1625329 non-null  datetime64[ns]\n",
      " 9   id_converted        1625329 non-null  datetime64[ns]\n",
      "dtypes: datetime64[ns](2), float64(4), object(4)\n",
      "memory usage: 124.0+ MB\n",
      "None\n",
      "                 id       celsius      pressure      humidity   \n",
      "count  1.625329e+06  1.625329e+06  1.625329e+06  1.625329e+06  \\\n",
      "mean   1.617098e+09  2.127773e+01  9.570123e+02  3.410791e+01   \n",
      "min    1.601031e+09 -1.495281e+02  8.726273e+02  1.362422e+01   \n",
      "25%    1.611232e+09  1.950391e+01  9.497415e+02  2.925855e+01   \n",
      "50%    1.616409e+09  2.121992e+01  9.572612e+02  3.318919e+01   \n",
      "75%    1.622477e+09  2.304668e+01  9.644449e+02  3.856832e+01   \n",
      "max    1.630973e+09  3.888359e+01  1.034922e+03  9.705182e+01   \n",
      "std    7.392100e+06  4.526257e+00  1.041657e+01  6.320620e+00   \n",
      "\n",
      "                  datetime_converted                   id_converted  \n",
      "count                        1625329                        1625329  \n",
      "mean   2021-03-30 11:22:51.355772928  2021-03-30 09:53:01.088889088  \n",
      "min              2020-09-25 12:53:29  2020-09-25 10:53:29.834129152  \n",
      "25%              2021-01-21 13:28:00  2021-01-21 12:28:00.952830720  \n",
      "50%              2021-03-22 11:25:57  2021-03-22 10:25:57.502401024  \n",
      "75%              2021-05-31 17:57:58  2021-05-31 15:57:58.017260288  \n",
      "max              2021-09-07 01:59:59  2021-09-06 23:59:59.105469696  \n",
      "std                              NaN                            NaN  \n"
     ]
    }
   ],
   "source": [
    "path = './datasets/07092021bimsim_roomparquet'\n",
    "df = pd.read_parquet(path)\n",
    "df['datetime_converted'] = pd.to_datetime(df['datetime'])\n",
    "df['id_converted'] = pd.to_datetime(df['id'], unit='s')\n",
    "print(df.info())\n",
    "print(df.describe())\n"
   ]
  },
  {
   "attachments": {},
   "cell_type": "markdown",
   "metadata": {},
   "source": [
    "## 2. Task c\n",
    "\n",
    "Compare the timestamps in the two respective columns. What is their difference?\n",
    "Could this be relevant? (Hint: Consider the capturing process)\n"
   ]
  },
  {
   "cell_type": "code",
   "execution_count": 42,
   "metadata": {},
   "outputs": [
    {
     "name": "stdout",
     "output_type": "stream",
     "text": [
      "                datetime                  id_converted  datetime_converted\n",
      "0  2021-03-21 01:46:22.0 2021-03-21 00:46:22.876011520 2021-03-21 01:46:22\n",
      "1  2021-03-21 01:51:24.0 2021-03-21 00:51:24.948136192 2021-03-21 01:51:24\n",
      "2  2021-03-21 01:56:27.0 2021-03-21 00:56:27.080546816 2021-03-21 01:56:27\n",
      "3  2021-03-21 02:01:29.0 2021-03-21 01:01:29.167299584 2021-03-21 02:01:29\n",
      "4  2021-03-21 02:06:31.0 2021-03-21 01:06:31.207941888 2021-03-21 02:06:31\n",
      "5  2021-03-21 02:11:33.0 2021-03-21 01:11:33.243678208 2021-03-21 02:11:33\n",
      "6  2021-03-21 02:16:35.0 2021-03-21 01:16:35.274406400 2021-03-21 02:16:35\n",
      "7  2021-03-21 02:21:37.0 2021-03-21 01:21:37.302532864 2021-03-21 02:21:37\n",
      "8  2021-03-21 02:26:39.0 2021-03-21 01:26:39.294675456 2021-03-21 02:26:39\n",
      "9  2021-03-21 02:31:41.0 2021-03-21 01:31:41.327459840 2021-03-21 02:31:41\n"
     ]
    }
   ],
   "source": [
    "dfd = dfa[['datetime','id_converted','datetime_converted']]\n",
    "print(dfd.head(10))"
   ]
  },
  {
   "attachments": {},
   "cell_type": "markdown",
   "metadata": {},
   "source": [
    "It seems like 'datetime' has no timezone given and could be shifted to UTC. 'id' is coded as unix-timestamp therefore it already has timezone UTC."
   ]
  }
 ],
 "metadata": {
  "kernelspec": {
   "display_name": "pandas",
   "language": "python",
   "name": "python3"
  },
  "language_info": {
   "codemirror_mode": {
    "name": "ipython",
    "version": 3
   },
   "file_extension": ".py",
   "mimetype": "text/x-python",
   "name": "python",
   "nbconvert_exporter": "python",
   "pygments_lexer": "ipython3",
   "version": "3.11.3"
  },
  "orig_nbformat": 4
 },
 "nbformat": 4,
 "nbformat_minor": 2
}
