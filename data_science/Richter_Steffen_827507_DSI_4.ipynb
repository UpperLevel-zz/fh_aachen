{
 "cells": [
  {
   "cell_type": "code",
   "execution_count": 18,
   "metadata": {
    "is_executing": true
   },
   "outputs": [],
   "source": [
    "import pandas as pd\n",
    "from pandas.api.types import is_numeric_dtype\n",
    "from datetime import timezone\n",
    "import numpy as np\n",
    "import plotly.express as px\n",
    "from sklearn.datasets import fetch_openml\n",
    "from sklearn.preprocessing import StandardScaler"
   ]
  },
  {
   "attachments": {},
   "cell_type": "markdown",
   "metadata": {},
   "source": [
    "## 1. Task a\n",
    "\n",
    "Load the 'MNIST' dataset using the python methods from scikit-learn (package: fetch_mldata) or use the parquet file from Ilias.\n",
    "\n",
    "Note: mldata.org is not existing anymore, so the fetch_mldata function was removed in version v0.22, so 'fetch_openml' will be used.\n",
    " see https://github.com/scikit-learn/scikit-learn/commit/af4247b152350b4fd0ac8bb9395833bd84e827d2#diff-a87b98b2e7985785e06076c570467543\n"
   ]
  },
  {
   "cell_type": "code",
   "execution_count": 19,
   "metadata": {},
   "outputs": [
    {
     "name": "stdout",
     "output_type": "stream",
     "text": [
      "<class 'pandas.core.frame.DataFrame'>\n",
      "RangeIndex: 70000 entries, 0 to 69999\n",
      "Columns: 785 entries, pixel1 to class\n",
      "dtypes: float64(784), int32(1)\n",
      "memory usage: 419.0 MB\n",
      "None\n",
      "        pixel1   pixel2   pixel3   pixel4   pixel5   pixel6   pixel7   pixel8  \\\n",
      "count  70000.0  70000.0  70000.0  70000.0  70000.0  70000.0  70000.0  70000.0   \n",
      "mean       0.0      0.0      0.0      0.0      0.0      0.0      0.0      0.0   \n",
      "std        0.0      0.0      0.0      0.0      0.0      0.0      0.0      0.0   \n",
      "min        0.0      0.0      0.0      0.0      0.0      0.0      0.0      0.0   \n",
      "25%        0.0      0.0      0.0      0.0      0.0      0.0      0.0      0.0   \n",
      "50%        0.0      0.0      0.0      0.0      0.0      0.0      0.0      0.0   \n",
      "75%        0.0      0.0      0.0      0.0      0.0      0.0      0.0      0.0   \n",
      "max        0.0      0.0      0.0      0.0      0.0      0.0      0.0      0.0   \n",
      "\n",
      "        pixel9  pixel10  ...      pixel776      pixel777      pixel778  \\\n",
      "count  70000.0  70000.0  ...  70000.000000  70000.000000  70000.000000   \n",
      "mean       0.0      0.0  ...      0.099543      0.046629      0.016614   \n",
      "std        0.0      0.0  ...      4.256304      2.783732      1.561822   \n",
      "min        0.0      0.0  ...      0.000000      0.000000      0.000000   \n",
      "25%        0.0      0.0  ...      0.000000      0.000000      0.000000   \n",
      "50%        0.0      0.0  ...      0.000000      0.000000      0.000000   \n",
      "75%        0.0      0.0  ...      0.000000      0.000000      0.000000   \n",
      "max        0.0      0.0  ...    254.000000    253.000000    253.000000   \n",
      "\n",
      "           pixel779      pixel780  pixel781  pixel782  pixel783  pixel784  \\\n",
      "count  70000.000000  70000.000000   70000.0   70000.0   70000.0   70000.0   \n",
      "mean       0.012957      0.001714       0.0       0.0       0.0       0.0   \n",
      "std        1.553796      0.320889       0.0       0.0       0.0       0.0   \n",
      "min        0.000000      0.000000       0.0       0.0       0.0       0.0   \n",
      "25%        0.000000      0.000000       0.0       0.0       0.0       0.0   \n",
      "50%        0.000000      0.000000       0.0       0.0       0.0       0.0   \n",
      "75%        0.000000      0.000000       0.0       0.0       0.0       0.0   \n",
      "max      254.000000     62.000000       0.0       0.0       0.0       0.0   \n",
      "\n",
      "              class  \n",
      "count  70000.000000  \n",
      "mean       4.452429  \n",
      "std        2.890195  \n",
      "min        0.000000  \n",
      "25%        2.000000  \n",
      "50%        4.000000  \n",
      "75%        7.000000  \n",
      "max        9.000000  \n",
      "\n",
      "[8 rows x 785 columns]\n"
     ]
    }
   ],
   "source": [
    "def load_from_local():\n",
    "    path = './datasets/MNIST.parquet'\n",
    "    return pd.read_parquet(path)\n",
    "\n",
    "def load_with_fetch_openml(): \n",
    "    return fetch_openml('mnist_784', version=1, return_X_y=True, parser=\"pandas\")\n",
    "\n",
    "mnist_data = load_from_local()\n",
    "print(mnist_data.info())\n",
    "print(mnist_data.describe())\n"
   ]
  },
  {
   "attachments": {},
   "cell_type": "markdown",
   "metadata": {},
   "source": [
    "## 2. Task b\n",
    "\n",
    "Preprocess the data so, that all elements have elementwise (not: featurewise) Zero-Mean-Unit-Variance! "
   ]
  },
  {
   "cell_type": "code",
   "execution_count": 20,
   "metadata": {},
   "outputs": [
    {
     "name": "stdout",
     "output_type": "stream",
     "text": [
      "Mean:  33.349106733393995\n",
      "Standard derivation:  pixel1      0.000000\n",
      "pixel2      0.000000\n",
      "pixel3      0.000000\n",
      "pixel4      0.000000\n",
      "pixel5      0.000000\n",
      "              ...   \n",
      "pixel781    0.000000\n",
      "pixel782    0.000000\n",
      "pixel783    0.000000\n",
      "pixel784    0.000000\n",
      "class       2.890174\n",
      "Length: 785, dtype: float64\n",
      "       pixel1  pixel2  pixel3  pixel4  pixel5  pixel6  pixel7  pixel8  pixel9  \\\n",
      "0         NaN     NaN     NaN     NaN     NaN     NaN     NaN     NaN     NaN   \n",
      "1         NaN     NaN     NaN     NaN     NaN     NaN     NaN     NaN     NaN   \n",
      "2         NaN     NaN     NaN     NaN     NaN     NaN     NaN     NaN     NaN   \n",
      "3         NaN     NaN     NaN     NaN     NaN     NaN     NaN     NaN     NaN   \n",
      "4         NaN     NaN     NaN     NaN     NaN     NaN     NaN     NaN     NaN   \n",
      "...       ...     ...     ...     ...     ...     ...     ...     ...     ...   \n",
      "69995     NaN     NaN     NaN     NaN     NaN     NaN     NaN     NaN     NaN   \n",
      "69996     NaN     NaN     NaN     NaN     NaN     NaN     NaN     NaN     NaN   \n",
      "69997     NaN     NaN     NaN     NaN     NaN     NaN     NaN     NaN     NaN   \n",
      "69998     NaN     NaN     NaN     NaN     NaN     NaN     NaN     NaN     NaN   \n",
      "69999     NaN     NaN     NaN     NaN     NaN     NaN     NaN     NaN     NaN   \n",
      "\n",
      "       pixel10  ...  pixel776  pixel777  pixel778  pixel779  pixel780  \\\n",
      "0          NaN  ... -0.023387  -0.01675 -0.010638 -0.008339 -0.005342   \n",
      "1          NaN  ... -0.023387  -0.01675 -0.010638 -0.008339 -0.005342   \n",
      "2          NaN  ... -0.023387  -0.01675 -0.010638 -0.008339 -0.005342   \n",
      "3          NaN  ... -0.023387  -0.01675 -0.010638 -0.008339 -0.005342   \n",
      "4          NaN  ... -0.023387  -0.01675 -0.010638 -0.008339 -0.005342   \n",
      "...        ...  ...       ...       ...       ...       ...       ...   \n",
      "69995      NaN  ... -0.023387  -0.01675 -0.010638 -0.008339 -0.005342   \n",
      "69996      NaN  ... -0.023387  -0.01675 -0.010638 -0.008339 -0.005342   \n",
      "69997      NaN  ... -0.023387  -0.01675 -0.010638 -0.008339 -0.005342   \n",
      "69998      NaN  ... -0.023387  -0.01675 -0.010638 -0.008339 -0.005342   \n",
      "69999      NaN  ... -0.023387  -0.01675 -0.010638 -0.008339 -0.005342   \n",
      "\n",
      "       pixel781  pixel782  pixel783  pixel784     class  \n",
      "0           NaN       NaN       NaN       NaN  0.189458  \n",
      "1           NaN       NaN       NaN       NaN -1.540529  \n",
      "2           NaN       NaN       NaN       NaN -0.156539  \n",
      "3           NaN       NaN       NaN       NaN -1.194531  \n",
      "4           NaN       NaN       NaN       NaN  1.573448  \n",
      "...         ...       ...       ...       ...       ...  \n",
      "69995       NaN       NaN       NaN       NaN -0.848534  \n",
      "69996       NaN       NaN       NaN       NaN -0.502537  \n",
      "69997       NaN       NaN       NaN       NaN -0.156539  \n",
      "69998       NaN       NaN       NaN       NaN  0.189458  \n",
      "69999       NaN       NaN       NaN       NaN  0.535456  \n",
      "\n",
      "[70000 rows x 785 columns]\n",
      "Mean:  -2.0301221021717148e-19\n",
      "Standard derivation:  pixel1           NaN\n",
      "pixel2           NaN\n",
      "pixel3           NaN\n",
      "pixel4           NaN\n",
      "pixel5           NaN\n",
      "              ...   \n",
      "pixel781         NaN\n",
      "pixel782         NaN\n",
      "pixel783         NaN\n",
      "pixel784         NaN\n",
      "class       0.999993\n",
      "Length: 785, dtype: float64\n"
     ]
    }
   ],
   "source": [
    "# apply the z-score method in Pandas using the .mean() and .std() methods\n",
    "def z_score(df):\n",
    "    # copy the dataframe\n",
    "    df_std = df.copy()\n",
    "    # apply the z-score method\n",
    "    for column in df_std.columns:\n",
    "        df_std[column] = (df_std[column] - df_std[column].mean()) / df_std[column].std()\n",
    "        \n",
    "    return df_std\n",
    "    \n",
    "print(\"Mean: \", np.mean(mnist_data))\n",
    "print(\"Standard derivation: \", np.std(mnist_data))\n",
    "\n",
    "# call the z_score function\n",
    "mnist_data_standardized = z_score(mnist_data)\n",
    "\n",
    "print(mnist_data_standardized)\n",
    "print(\"Mean: \", np.mean(mnist_data_standardized))\n",
    "print(\"Standard derivation: \", np.std(mnist_data_standardized))"
   ]
  },
  {
   "attachments": {},
   "cell_type": "markdown",
   "metadata": {},
   "source": [
    "SECOND OPTION\n",
    "Source: https://towardsdatascience.com/data-normalization-with-pandas-and-scikit-learn-7c1cc6ed6475"
   ]
  },
  {
   "cell_type": "code",
   "execution_count": 21,
   "metadata": {},
   "outputs": [
    {
     "name": "stdout",
     "output_type": "stream",
     "text": [
      "       pixel1  pixel2  pixel3  pixel4  pixel5  pixel6  pixel7  pixel8  pixel9  \\\n",
      "0         0.0     0.0     0.0     0.0     0.0     0.0     0.0     0.0     0.0   \n",
      "1         0.0     0.0     0.0     0.0     0.0     0.0     0.0     0.0     0.0   \n",
      "2         0.0     0.0     0.0     0.0     0.0     0.0     0.0     0.0     0.0   \n",
      "3         0.0     0.0     0.0     0.0     0.0     0.0     0.0     0.0     0.0   \n",
      "4         0.0     0.0     0.0     0.0     0.0     0.0     0.0     0.0     0.0   \n",
      "...       ...     ...     ...     ...     ...     ...     ...     ...     ...   \n",
      "69995     0.0     0.0     0.0     0.0     0.0     0.0     0.0     0.0     0.0   \n",
      "69996     0.0     0.0     0.0     0.0     0.0     0.0     0.0     0.0     0.0   \n",
      "69997     0.0     0.0     0.0     0.0     0.0     0.0     0.0     0.0     0.0   \n",
      "69998     0.0     0.0     0.0     0.0     0.0     0.0     0.0     0.0     0.0   \n",
      "69999     0.0     0.0     0.0     0.0     0.0     0.0     0.0     0.0     0.0   \n",
      "\n",
      "       pixel10  ...  pixel776  pixel777  pixel778  pixel779  pixel780  \\\n",
      "0          0.0  ... -0.023387  -0.01675 -0.010638 -0.008339 -0.005342   \n",
      "1          0.0  ... -0.023387  -0.01675 -0.010638 -0.008339 -0.005342   \n",
      "2          0.0  ... -0.023387  -0.01675 -0.010638 -0.008339 -0.005342   \n",
      "3          0.0  ... -0.023387  -0.01675 -0.010638 -0.008339 -0.005342   \n",
      "4          0.0  ... -0.023387  -0.01675 -0.010638 -0.008339 -0.005342   \n",
      "...        ...  ...       ...       ...       ...       ...       ...   \n",
      "69995      0.0  ... -0.023387  -0.01675 -0.010638 -0.008339 -0.005342   \n",
      "69996      0.0  ... -0.023387  -0.01675 -0.010638 -0.008339 -0.005342   \n",
      "69997      0.0  ... -0.023387  -0.01675 -0.010638 -0.008339 -0.005342   \n",
      "69998      0.0  ... -0.023387  -0.01675 -0.010638 -0.008339 -0.005342   \n",
      "69999      0.0  ... -0.023387  -0.01675 -0.010638 -0.008339 -0.005342   \n",
      "\n",
      "       pixel781  pixel782  pixel783  pixel784     class  \n",
      "0           0.0       0.0       0.0       0.0  0.189460  \n",
      "1           0.0       0.0       0.0       0.0 -1.540540  \n",
      "2           0.0       0.0       0.0       0.0 -0.156540  \n",
      "3           0.0       0.0       0.0       0.0 -1.194540  \n",
      "4           0.0       0.0       0.0       0.0  1.573459  \n",
      "...         ...       ...       ...       ...       ...  \n",
      "69995       0.0       0.0       0.0       0.0 -0.848540  \n",
      "69996       0.0       0.0       0.0       0.0 -0.502540  \n",
      "69997       0.0       0.0       0.0       0.0 -0.156540  \n",
      "69998       0.0       0.0       0.0       0.0  0.189460  \n",
      "69999       0.0       0.0       0.0       0.0  0.535460  \n",
      "\n",
      "[70000 rows x 785 columns]\n"
     ]
    }
   ],
   "source": [
    "# create a scaler object\n",
    "std_scaler = StandardScaler()\n",
    "std_scaler\n",
    "# fit and transform the data\n",
    "df_std = pd.DataFrame(std_scaler.fit_transform(mnist_data), columns=mnist_data.columns)\n",
    "\n",
    "print(df_std)"
   ]
  },
  {
   "attachments": {},
   "cell_type": "markdown",
   "metadata": {},
   "source": [
    "## 3. Task c\n",
    "\n",
    "Split the data into a train-, test-, and validation-set!\n"
   ]
  },
  {
   "cell_type": "code",
   "execution_count": 22,
   "metadata": {},
   "outputs": [
    {
     "ename": "ValueError",
     "evalue": "not enough values to unpack (expected 3, got 2)",
     "output_type": "error",
     "traceback": [
      "\u001b[1;31m---------------------------------------------------------------------------\u001b[0m",
      "\u001b[1;31mValueError\u001b[0m                                Traceback (most recent call last)",
      "Cell \u001b[1;32mIn[22], line 5\u001b[0m\n\u001b[0;32m      1\u001b[0m \u001b[39m# Split the data into three partitions\u001b[39;00m\n\u001b[0;32m      2\u001b[0m \u001b[39m# First into traings data and the test/validation data and then split the test/validation data\u001b[39;00m\n\u001b[0;32m      3\u001b[0m \u001b[39m# The data, test and validation partitions will be equally sized\u001b[39;00m\n\u001b[0;32m      4\u001b[0m \u001b[39mfrom\u001b[39;00m \u001b[39msklearn\u001b[39;00m\u001b[39m.\u001b[39;00m\u001b[39mmodel_selection\u001b[39;00m \u001b[39mimport\u001b[39;00m train_test_split\n\u001b[1;32m----> 5\u001b[0m data_train, data_test, data_validation \u001b[39m=\u001b[39m train_test_split(\n\u001b[0;32m      6\u001b[0m     mnist_data, test_size\u001b[39m=\u001b[39m\u001b[39m0.2\u001b[39m, shuffle\u001b[39m=\u001b[39m\u001b[39mFalse\u001b[39;00m)\n\u001b[0;32m      8\u001b[0m \u001b[39mprint\u001b[39m(\u001b[39m\"\u001b[39m\u001b[39mTraining data:\u001b[39m\u001b[39m\"\u001b[39m)\n\u001b[0;32m      9\u001b[0m \u001b[39mprint\u001b[39m(data_train)\n",
      "\u001b[1;31mValueError\u001b[0m: not enough values to unpack (expected 3, got 2)"
     ]
    }
   ],
   "source": [
    "# Split the data into three partitions\n",
    "# First into traings data and the test/validation data and then split the test/validation data\n",
    "# The data, test and validation partitions will be equally sized\n",
    "from sklearn.model_selection import train_test_split\n",
    "data_train, data_test, data_validation = train_test_split(\n",
    "    mnist_data, test_size=0.2, shuffle=False)\n",
    "\n",
    "print(\"Training data:\")\n",
    "print(data_train)\n",
    "\n",
    "print(\"Test data:\")\n",
    "print(data_test)\n",
    "\n",
    "print(\"Validation data:\")\n",
    "print(data_validation)"
   ]
  },
  {
   "attachments": {},
   "cell_type": "markdown",
   "metadata": {},
   "source": []
  }
 ],
 "metadata": {
  "kernelspec": {
   "display_name": "pandas",
   "language": "python",
   "name": "python3"
  },
  "language_info": {
   "codemirror_mode": {
    "name": "ipython",
    "version": 3
   },
   "file_extension": ".py",
   "mimetype": "text/x-python",
   "name": "python",
   "nbconvert_exporter": "python",
   "pygments_lexer": "ipython3",
   "version": "3.11.3"
  },
  "orig_nbformat": 4
 },
 "nbformat": 4,
 "nbformat_minor": 2
}
