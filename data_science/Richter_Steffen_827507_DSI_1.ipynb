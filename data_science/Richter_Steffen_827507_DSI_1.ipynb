{
 "cells": [
  {
   "cell_type": "code",
   "execution_count": null,
   "metadata": {
    "ExecuteTime": {
     "end_time": "2023-06-09T09:11:11.327204900Z",
     "start_time": "2023-06-09T09:11:11.000039200Z"
    }
   },
   "outputs": [],
   "source": [
    "import pandas as pd\n",
    "import matplotlib.pyplot as plt"
   ]
  },
  {
   "attachments": {},
   "cell_type": "markdown",
   "metadata": {},
   "source": [
    "DSI Lab: Task 1\n",
    "\n",
    "Import pandas and read file as data frame. \n",
    "NOTE: The delimiters in the file are blanks\n",
    "\n",
    "Check readme for attribute information!\n",
    "Attribute Information:\n",
    "   1. sepal length in cm (Kelchblattlänge)\n",
    "   2. sepal width in cm (Kelchblattbreite)\n",
    "   3. petal length in cm (Blütenblattlänge)\n",
    "   4. petal width in cm (Blütenblattbreite)\n",
    "   5. class: \n",
    "      -- Iris Setosa\n",
    "      -- Iris Versicolour\n",
    "      -- Iris Virginica\n",
    "\n",
    "Print the data!"
   ]
  },
  {
   "cell_type": "code",
   "execution_count": null,
   "metadata": {
    "ExecuteTime": {
     "start_time": "2023-06-09T09:11:11.042354600Z"
    }
   },
   "outputs": [],
   "source": [
    "path = './datasets/iris/data.all'\n",
    "colnames=['sepal_length', 'sepal_width', 'petal_length', 'petal_width', 'iris_class']\n",
    "df = pd.read_csv(path, delimiter=' ', names=colnames)\n",
    "print(df)"
   ]
  },
  {
   "attachments": {},
   "cell_type": "markdown",
   "metadata": {},
   "source": [
    "Printing some base statistics"
   ]
  },
  {
   "cell_type": "code",
   "execution_count": null,
   "metadata": {
    "ExecuteTime": {
     "start_time": "2023-06-09T09:11:11.046378800Z"
    }
   },
   "outputs": [],
   "source": [
    "print(df.describe())\n",
    "print()\n",
    "print('Median')\n",
    "print(df.median(numeric_only=True))\n",
    "print()\n",
    "print('Class Correlation')\n",
    "print(df.corr(numeric_only=True))"
   ]
  },
  {
   "attachments": {},
   "cell_type": "markdown",
   "metadata": {},
   "source": [
    "Plot data as scatter matrix\n",
    "\n",
    "!FIND a way to put all in different plots!"
   ]
  },
  {
   "cell_type": "code",
   "execution_count": null,
   "metadata": {
    "ExecuteTime": {
     "start_time": "2023-06-09T09:11:11.051272900Z"
    }
   },
   "outputs": [],
   "source": [
    "plt.style.use('seaborn-v0_8-bright')\n",
    "pd.plotting.scatter_matrix(df)"
   ]
  },
  {
   "cell_type": "code",
   "execution_count": null,
   "metadata": {
    "ExecuteTime": {
     "start_time": "2023-06-09T09:11:11.054271600Z"
    }
   },
   "outputs": [],
   "source": [
    "plt.scatter(df.iris_class, df.petal_length)\n",
    "plt.xlabel('iris_class')\n",
    "plt.ylabel('petal_length')\n",
    "plt.legend()"
   ]
  },
  {
   "cell_type": "code",
   "execution_count": null,
   "metadata": {
    "ExecuteTime": {
     "start_time": "2023-06-09T09:11:11.058347900Z"
    }
   },
   "outputs": [],
   "source": [
    "plt.scatter(df.iris_class, df.petal_width)\n",
    "plt.xlabel('iris_class')\n",
    "plt.ylabel('petal_width')"
   ]
  },
  {
   "attachments": {},
   "cell_type": "markdown",
   "metadata": {},
   "source": [
    "Plot data as boxplot\n",
    "\n",
    "NOTE: 'iris_class' can not be used due it is no numeric value"
   ]
  },
  {
   "cell_type": "code",
   "execution_count": null,
   "metadata": {
    "ExecuteTime": {
     "start_time": "2023-06-09T09:11:11.060876Z"
    }
   },
   "outputs": [],
   "source": [
    "df.boxplot(column=['sepal_length', 'sepal_width', 'petal_length', 'petal_width'])"
   ]
  },
  {
   "attachments": {},
   "cell_type": "markdown",
   "metadata": {},
   "source": [
    "Conclusion:\n",
    "\n",
    "A basic classification can be seen in the scatter matrix and plot. The petal length and petal width have the greatest influence, as these lead to a clear separation and thus a classification can be determined. The two additional scatter plots show very well that 'iris-setosa' can be separated from the others based on the characteristics petal length and petal width.\n",
    "The sepal length and sepal width are not suitable for classification because the data seem to be more scattered in the scatter matrix."
   ]
  }
 ],
 "metadata": {
  "kernelspec": {
   "display_name": "pandas",
   "language": "python",
   "name": "python3"
  },
  "language_info": {
   "codemirror_mode": {
    "name": "ipython",
    "version": 3
   },
   "file_extension": ".py",
   "mimetype": "text/x-python",
   "name": "python",
   "nbconvert_exporter": "python",
   "pygments_lexer": "ipython3",
   "version": "3.11.3"
  },
  "orig_nbformat": 4
 },
 "nbformat": 4,
 "nbformat_minor": 2
}
