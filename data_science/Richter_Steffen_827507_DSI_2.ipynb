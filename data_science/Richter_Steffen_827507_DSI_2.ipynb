{
 "cells": [
  {
   "cell_type": "code",
   "execution_count": 8,
   "metadata": {
    "is_executing": true
   },
   "outputs": [],
   "source": [
    "import pandas as pd\n",
    "from pandas.api.types import is_numeric_dtype\n",
    "import numpy as np\n",
    "import matplotlib.pyplot as plt"
   ]
  },
  {
   "attachments": {},
   "cell_type": "markdown",
   "metadata": {},
   "source": [
    "DSI Lab: Task 1\n",
    "\n",
    "Import pandas and read file as data frame. Check readme for attribute information\n",
    "Print the data\n",
    "\n",
    "NOTE: The delimiters in the file are blanks"
   ]
  },
  {
   "cell_type": "code",
   "execution_count": 9,
   "metadata": {},
   "outputs": [],
   "source": [
    "def readMissingValuesAsNan(path):\n",
    "    df = pd.read_csv(path, delimiter=' ', names=['sepal_length', 'sepal_width', 'petal_length', 'petal_width', 'class'])\n",
    "    df = df.replace({'?': np.nan})\n",
    "    df = df.iloc[0:50,: ]\n",
    "    df = df[['sepal_length', 'sepal_width', 'petal_length', 'petal_width']]\n",
    "    df = df.astype(float)\n",
    "    return df"
   ]
  },
  {
   "attachments": {},
   "cell_type": "markdown",
   "metadata": {},
   "source": [
    "## 1. Analyse"
   ]
  },
  {
   "cell_type": "code",
   "execution_count": 10,
   "metadata": {},
   "outputs": [
    {
     "name": "stdout",
     "output_type": "stream",
     "text": [
      "<class 'pandas.core.frame.DataFrame'>\n",
      "RangeIndex: 150 entries, 0 to 149\n",
      "Data columns (total 5 columns):\n",
      " #   Column        Non-Null Count  Dtype \n",
      "---  ------        --------------  ----- \n",
      " 0   sepal_length  150 non-null    object\n",
      " 1   sepal_width   150 non-null    object\n",
      " 2   petal_length  150 non-null    object\n",
      " 3   petal_width   150 non-null    object\n",
      " 4   class         150 non-null    object\n",
      "dtypes: object(5)\n",
      "memory usage: 6.0+ KB\n",
      "None\n",
      "       sepal_length sepal_width petal_length petal_width            class\n",
      "count           150         150          150         150              150\n",
      "unique           36          24           44          23                4\n",
      "top             5.0         3.0          1.5         0.2  Iris-versicolor\n",
      "freq             10          26           13          28               50\n",
      "   sepal_length sepal_width petal_length petal_width        class\n",
      "6           4.6         3.4            ?         0.3  Iris-setosa\n",
      "9           4.9         3.1          1.5         0.1            ?\n",
      "13          4.3         3.0          1.1           ?  Iris-setosa\n",
      "14          5.8         4.0          1.2           ?  Iris-setosa\n",
      "18            ?           ?          1.7         0.3  Iris-setosa\n"
     ]
    }
   ],
   "source": [
    "path = './datasets/iris/data_someMissing.all'\n",
    "colnames=['sepal_length', 'sepal_width', 'petal_length', 'petal_width', 'class']\n",
    "dfa = pd.read_csv(path, delimiter=' ', names=colnames)\n",
    "print(dfa.info())\n",
    "print(dfa.describe())\n",
    "print(dfa[dfa.eq('?').any(axis=1)])"
   ]
  },
  {
   "attachments": {},
   "cell_type": "markdown",
   "metadata": {},
   "source": [
    "Pandas treat None and NaN as essentially interchangeable for indicating missing or null values.\n",
    "But the missing data is not represented by missing values. Instead there is a '?' in the dataset.\n",
    "Solutions first step: Replace '?' with 'nan', change type (cast object to float values)\n",
    "We can see, that there are only missing values in 'class' 'Iris-setosa' so we can focus on this values \n",
    "and drop the feature."
   ]
  },
  {
   "attachments": {},
   "cell_type": "markdown",
   "metadata": {},
   "source": [
    "## 2. Remove nan data\n",
    "\n",
    "This will reduce the total count of datarows."
   ]
  },
  {
   "cell_type": "code",
   "execution_count": 11,
   "metadata": {},
   "outputs": [
    {
     "name": "stdout",
     "output_type": "stream",
     "text": [
      "<class 'pandas.core.frame.DataFrame'>\n",
      "Int64Index: 46 entries, 0 to 49\n",
      "Data columns (total 4 columns):\n",
      " #   Column        Non-Null Count  Dtype  \n",
      "---  ------        --------------  -----  \n",
      " 0   sepal_length  46 non-null     float64\n",
      " 1   sepal_width   46 non-null     float64\n",
      " 2   petal_length  46 non-null     float64\n",
      " 3   petal_width   46 non-null     float64\n",
      "dtypes: float64(4)\n",
      "memory usage: 1.8 KB\n",
      "None\n"
     ]
    }
   ],
   "source": [
    "def removeNaNValues(df):\n",
    "    df = df.dropna()\n",
    "    return df\n",
    "\n",
    "df1 = readMissingValuesAsNan(path=path)\n",
    "df1 = removeNaNValues(df1)\n",
    "print(df1.info())"
   ]
  },
  {
   "attachments": {},
   "cell_type": "markdown",
   "metadata": {},
   "source": [
    "## 3. Replace missing values with median values\n",
    "\n",
    "Replacing the nan values with the median value of a single feature. This will interpolate probably the best. Mean could also be used due there no outliers in the dataset."
   ]
  },
  {
   "cell_type": "code",
   "execution_count": 12,
   "metadata": {},
   "outputs": [
    {
     "name": "stdout",
     "output_type": "stream",
     "text": [
      "<class 'pandas.core.frame.DataFrame'>\n",
      "RangeIndex: 50 entries, 0 to 49\n",
      "Data columns (total 4 columns):\n",
      " #   Column        Non-Null Count  Dtype  \n",
      "---  ------        --------------  -----  \n",
      " 0   sepal_length  50 non-null     float64\n",
      " 1   sepal_width   50 non-null     float64\n",
      " 2   petal_length  50 non-null     float64\n",
      " 3   petal_width   50 non-null     float64\n",
      "dtypes: float64(4)\n",
      "memory usage: 1.7 KB\n",
      "None\n"
     ]
    }
   ],
   "source": [
    "def replaceNaNValuesWithMedian(df):\n",
    "    df['sepal_length'] = df['sepal_length'].fillna(df['sepal_length'].median())\n",
    "    df['sepal_width'] = df['sepal_width'].fillna(df['sepal_width'].median())\n",
    "    df['petal_length'] = df['petal_length'].fillna(df['petal_length'].median())\n",
    "    df['petal_width'] = df['petal_width'].fillna(df['petal_width'].median())\n",
    "    return df\n",
    "\n",
    "df2 = readMissingValuesAsNan(path=path)\n",
    "df2 = replaceNaNValuesWithMedian(df2)\n",
    "print(df2.info())"
   ]
  },
  {
   "attachments": {},
   "cell_type": "markdown",
   "metadata": {},
   "source": [
    "## 4. Replace missing values with 0\n",
    "\n",
    "Replacing the nan values with free selected values (not the best idea)"
   ]
  },
  {
   "cell_type": "code",
   "execution_count": 13,
   "metadata": {},
   "outputs": [
    {
     "name": "stdout",
     "output_type": "stream",
     "text": [
      "<class 'pandas.core.frame.DataFrame'>\n",
      "RangeIndex: 50 entries, 0 to 49\n",
      "Data columns (total 4 columns):\n",
      " #   Column        Non-Null Count  Dtype  \n",
      "---  ------        --------------  -----  \n",
      " 0   sepal_length  50 non-null     float64\n",
      " 1   sepal_width   50 non-null     float64\n",
      " 2   petal_length  50 non-null     float64\n",
      " 3   petal_width   50 non-null     float64\n",
      "dtypes: float64(4)\n",
      "memory usage: 1.7 KB\n",
      "None\n"
     ]
    }
   ],
   "source": [
    "def replaceNaNValuesWithConstValue(df, value):\n",
    "    df['sepal_length'] = df['sepal_length'].fillna(value)\n",
    "    df['sepal_width'] = df['sepal_width'].fillna(value)\n",
    "    df['petal_length'] = df['petal_length'].fillna(value)\n",
    "    df['petal_width'] = df['petal_width'].fillna(value)\n",
    "    return df\n",
    "\n",
    "df3 = readMissingValuesAsNan(path=path)\n",
    "df3 = replaceNaNValuesWithConstValue(df3, 0)\n",
    "print(df3.info())"
   ]
  },
  {
   "attachments": {},
   "cell_type": "markdown",
   "metadata": {},
   "source": [
    "## 5. Conclusion:\n",
    "\n",
    "How are the above options changing the statistical properties of the single features?\n",
    "Print the values (per option) into a table!"
   ]
  },
  {
   "cell_type": "code",
   "execution_count": 14,
   "metadata": {},
   "outputs": [
    {
     "name": "stdout",
     "output_type": "stream",
     "text": [
      "       sepal_length  sepal_width  petal_length  petal_width\n",
      "count     46.000000    46.000000     46.000000    46.000000\n",
      "mean       4.997826     3.417391      1.471739     0.247826\n",
      "std        0.309472     0.376713      0.164199     0.106956\n",
      "min        4.400000     2.300000      1.000000     0.100000\n",
      "25%        4.800000     3.200000      1.400000     0.200000\n",
      "50%        5.000000     3.400000      1.500000     0.200000\n",
      "75%        5.175000     3.600000      1.575000     0.300000\n",
      "max        5.700000     4.400000      1.900000     0.600000\n",
      "       sepal_length  sepal_width  petal_length  petal_width\n",
      "count     50.000000    50.000000     50.000000     50.00000\n",
      "mean       4.992000     3.420000      1.464000      0.24800\n",
      "std        0.337965     0.375255      0.173511      0.10349\n",
      "min        4.300000     2.300000      1.000000      0.10000\n",
      "25%        4.800000     3.200000      1.400000      0.20000\n",
      "50%        5.000000     3.400000      1.500000      0.20000\n",
      "75%        5.175000     3.600000      1.575000      0.30000\n",
      "max        5.800000     4.400000      1.900000      0.60000\n",
      "       sepal_length  sepal_width  petal_length  petal_width\n",
      "count      50.00000    50.000000     50.000000    50.000000\n",
      "mean        4.89200     3.352000      1.434000     0.240000\n",
      "std         0.78268     0.612202      0.270004     0.114286\n",
      "min         0.00000     0.000000      0.000000     0.000000\n",
      "25%         4.80000     3.125000      1.400000     0.200000\n",
      "50%         5.00000     3.400000      1.500000     0.200000\n",
      "75%         5.17500     3.600000      1.575000     0.300000\n",
      "max         5.80000     4.400000      1.900000     0.600000\n"
     ]
    }
   ],
   "source": [
    "print(df1.describe())\n",
    "print(df2.describe())\n",
    "print(df3.describe())"
   ]
  },
  {
   "attachments": {},
   "cell_type": "markdown",
   "metadata": {},
   "source": [
    "As we can see the modification of the missing values influences the all statistical values in the dataframe. So we need to be careful, what method we choose to handle it."
   ]
  }
 ],
 "metadata": {
  "kernelspec": {
   "display_name": "pandas",
   "language": "python",
   "name": "python3"
  },
  "language_info": {
   "codemirror_mode": {
    "name": "ipython",
    "version": 3
   },
   "file_extension": ".py",
   "mimetype": "text/x-python",
   "name": "python",
   "nbconvert_exporter": "python",
   "pygments_lexer": "ipython3",
   "version": "3.11.3"
  },
  "orig_nbformat": 4
 },
 "nbformat": 4,
 "nbformat_minor": 2
}
