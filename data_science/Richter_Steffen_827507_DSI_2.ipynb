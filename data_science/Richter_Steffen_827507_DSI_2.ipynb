{
 "cells": [
  {
   "cell_type": "code",
   "execution_count": null,
   "metadata": {
    "is_executing": true
   },
   "outputs": [],
   "source": [
    "import pandas as pd\n",
    "from pandas.api.types import is_numeric_dtype\n",
    "import numpy as np\n",
    "import matplotlib.pyplot as plt"
   ]
  },
  {
   "attachments": {},
   "cell_type": "markdown",
   "metadata": {},
   "source": [
    "DSI Lab: Task 1\n",
    "\n",
    "Import pandas and read file as data frame. Check readme for attribute information\n",
    "Print the data\n",
    "\n",
    "NOTE: The delimiters in the file are blanks"
   ]
  },
  {
   "cell_type": "code",
   "execution_count": null,
   "metadata": {},
   "outputs": [],
   "source": [
    "def readMissingValuesAsNan(path):\n",
    "    df = pd.read_csv(path, delimiter=' ', names=['sepal_length', 'sepal_width', 'petal_length', 'petal_width', 'class'])\n",
    "    df = df.replace({'?': np.nan})\n",
    "    df = df.iloc[0:50,: ]\n",
    "    df = df[['sepal_length', 'sepal_width', 'petal_length', 'petal_width']]\n",
    "    df = df.astype(float)\n",
    "    return df"
   ]
  },
  {
   "attachments": {},
   "cell_type": "markdown",
   "metadata": {},
   "source": [
    "## 1. Analyse"
   ]
  },
  {
   "cell_type": "code",
   "execution_count": null,
   "metadata": {},
   "outputs": [],
   "source": [
    "path = './datasets/iris/data_someMissing.all'\n",
    "colnames=['sepal_length', 'sepal_width', 'petal_length', 'petal_width', 'class']\n",
    "dfa = pd.read_csv(path, delimiter=' ', names=colnames)\n",
    "print(dfa.info())\n",
    "print(dfa.describe())\n",
    "print(dfa[dfa.eq('?').any(axis=1)])"
   ]
  },
  {
   "attachments": {},
   "cell_type": "markdown",
   "metadata": {},
   "source": [
    "Pandas treat None and NaN as essentially interchangeable for indicating missing or null values.\n",
    "But the missing data is not represented by missing values. Instead there is a '?' in the dataset.\n",
    "Solutions first step: Replace '?' with 'nan', change type (cast object to float values)\n",
    "We can see, that there are only missing values in 'class' 'Iris-setosa' so we can focus on this values \n",
    "and drop the feature."
   ]
  },
  {
   "attachments": {},
   "cell_type": "markdown",
   "metadata": {},
   "source": [
    "## 2. Remove nan data\n",
    "\n",
    "This will reduce the total count of datarows."
   ]
  },
  {
   "cell_type": "code",
   "execution_count": null,
   "metadata": {},
   "outputs": [],
   "source": [
    "def removeNaNValues(df):\n",
    "    df = df.dropna()\n",
    "    return df\n",
    "\n",
    "df1 = readMissingValuesAsNan(path=path)\n",
    "df1 = removeNaNValues(df1)\n",
    "print(df1.info())"
   ]
  },
  {
   "attachments": {},
   "cell_type": "markdown",
   "metadata": {},
   "source": [
    "## 3. Replace missing values with median values\n",
    "\n",
    "Replacing the nan values with the median value of a single feature. This will interpolate probably the best. Mean could also be used due there no outliers in the dataset."
   ]
  },
  {
   "cell_type": "code",
   "execution_count": null,
   "metadata": {},
   "outputs": [],
   "source": [
    "def replaceNaNValuesWithMedian(df):\n",
    "    df['sepal_length'] = df['sepal_length'].fillna(df['sepal_length'].median())\n",
    "    df['sepal_width'] = df['sepal_width'].fillna(df['sepal_width'].median())\n",
    "    df['petal_length'] = df['petal_length'].fillna(df['petal_length'].median())\n",
    "    df['petal_width'] = df['petal_width'].fillna(df['petal_width'].median())\n",
    "    return df\n",
    "\n",
    "df2 = readMissingValuesAsNan(path=path)\n",
    "df2 = replaceNaNValuesWithMedian(df2)\n",
    "print(df2.info())"
   ]
  },
  {
   "attachments": {},
   "cell_type": "markdown",
   "metadata": {},
   "source": [
    "## 4. Replace missing values with 0\n",
    "\n",
    "Replacing the nan values with free selected values (not the best idea)"
   ]
  },
  {
   "cell_type": "code",
   "execution_count": null,
   "metadata": {},
   "outputs": [],
   "source": [
    "def replaceNaNValuesWithConstValue(df, value):\n",
    "    df['sepal_length'] = df['sepal_length'].fillna(value)\n",
    "    df['sepal_width'] = df['sepal_width'].fillna(value)\n",
    "    df['petal_length'] = df['petal_length'].fillna(value)\n",
    "    df['petal_width'] = df['petal_width'].fillna(value)\n",
    "    return df\n",
    "\n",
    "df3 = readMissingValuesAsNan(path=path)\n",
    "df3 = replaceNaNValuesWithConstValue(df3, 0)\n",
    "print(df3.info())"
   ]
  },
  {
   "attachments": {},
   "cell_type": "markdown",
   "metadata": {},
   "source": [
    "## 5. Conclusion:\n",
    "\n",
    "How are the above options changing the statistical properties of the single features?\n",
    "Print the values (per option) into a table!"
   ]
  },
  {
   "cell_type": "code",
   "execution_count": null,
   "metadata": {},
   "outputs": [],
   "source": [
    "print(df1.describe())\n",
    "print(df2.describe())\n",
    "print(df3.describe())"
   ]
  },
  {
   "attachments": {},
   "cell_type": "markdown",
   "metadata": {},
   "source": [
    "As we can see the modification of the missing values influences the all statistical values in the dataframe. So we need to be careful, what method we choose to handle it."
   ]
  }
 ],
 "metadata": {
  "kernelspec": {
   "display_name": "pandas",
   "language": "python",
   "name": "python3"
  },
  "language_info": {
   "codemirror_mode": {
    "name": "ipython",
    "version": 3
   },
   "file_extension": ".py",
   "mimetype": "text/x-python",
   "name": "python",
   "nbconvert_exporter": "python",
   "pygments_lexer": "ipython3",
   "version": "3.11.3"
  },
  "orig_nbformat": 4
 },
 "nbformat": 4,
 "nbformat_minor": 2
}
